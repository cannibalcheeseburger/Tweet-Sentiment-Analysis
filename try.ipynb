{
 "cells": [
  {
   "cell_type": "code",
   "execution_count": 10,
   "id": "d18e8182",
   "metadata": {},
   "outputs": [],
   "source": [
    "import os\n",
    "os.environ[\"DJANGO_ALLOW_ASYNC_UNSAFE\"] = \"true\""
   ]
  },
  {
   "cell_type": "code",
   "execution_count": 11,
   "id": "f5ee22c9",
   "metadata": {},
   "outputs": [],
   "source": [
    "import pandas as pd\n",
    "\n"
   ]
  },
  {
   "cell_type": "code",
   "execution_count": 12,
   "id": "9661f094",
   "metadata": {},
   "outputs": [
    {
     "data": {
      "text/plain": [
       "'D:\\\\GITHUB\\\\MERE_WALE\\\\SentimentAnalysis'"
      ]
     },
     "execution_count": 12,
     "metadata": {},
     "output_type": "execute_result"
    }
   ],
   "source": [
    "os.getcwd()"
   ]
  },
  {
   "cell_type": "code",
   "execution_count": 13,
   "id": "35ee67e6",
   "metadata": {},
   "outputs": [],
   "source": [
    "DATASET_COLUMNS = [\"target\", \"ids\", \"date\", \"flag\", \"user\", \"text\"]\n",
    "DATASET_ENCODING = \"ISO-8859-1\"\n",
    "\n",
    "df=pd.read_csv('./Dataset/archive/test.csv',encoding =DATASET_ENCODING)\n"
   ]
  },
  {
   "cell_type": "code",
   "execution_count": 14,
   "id": "79285fb5",
   "metadata": {},
   "outputs": [],
   "source": [
    "\n",
    "df = df.sample(frac=1)\n"
   ]
  },
  {
   "cell_type": "code",
   "execution_count": 16,
   "id": "d05b6ddb",
   "metadata": {},
   "outputs": [],
   "source": [
    "df = df[:100]"
   ]
  },
  {
   "cell_type": "code",
   "execution_count": 17,
   "id": "0b716b4b",
   "metadata": {},
   "outputs": [],
   "source": [
    "from tweet.models import tweet"
   ]
  },
  {
   "cell_type": "code",
   "execution_count": 18,
   "id": "bc554ebc",
   "metadata": {},
   "outputs": [],
   "source": [
    "\n",
    "row_iter = df.iterrows()\n",
    "counter = 0\n",
    "objs = [\n",
    "\n",
    "    tweet(\n",
    "\n",
    "        id = row['ids'],\n",
    "\n",
    "        text  = row['text'],\n",
    "\n",
    "        date  = row['date'],\n",
    "\n",
    "        flag  = row['flag'],\n",
    "        \n",
    "        target  = row['target'],\n",
    "\n",
    "        user  = row['user'],\n",
    "        \n",
    "        \n",
    "\n",
    "    )\n",
    "\n",
    "    for index, row in row_iter if counter<10  \n",
    "\n",
    "]\n",
    "\n",
    "tweets = tweet.objects.bulk_create(objs)"
   ]
  },
  {
   "cell_type": "code",
   "execution_count": 19,
   "id": "6d444197",
   "metadata": {},
   "outputs": [
    {
     "ename": "AttributeError",
     "evalue": "'list' object has no attribute 'save'",
     "output_type": "error",
     "traceback": [
      "\u001b[1;31m-------------\u001b[0m",
      "\u001b[1;31mAttributeError\u001b[0mTraceback (most recent call last)",
      "\u001b[1;32m~\\AppData\\Local\\Temp/ipykernel_8388/2496427637.py\u001b[0m in \u001b[0;36m<module>\u001b[1;34m\u001b[0m\n\u001b[1;32m----> 1\u001b[1;33m \u001b[0mtweets\u001b[0m\u001b[1;33m.\u001b[0m\u001b[0msave\u001b[0m\u001b[1;33m(\u001b[0m\u001b[1;33m)\u001b[0m\u001b[1;33m\u001b[0m\u001b[1;33m\u001b[0m\u001b[0m\n\u001b[0m",
      "\u001b[1;31mAttributeError\u001b[0m: 'list' object has no attribute 'save'"
     ]
    }
   ],
   "source": [
    "tweets.save()"
   ]
  },
  {
   "cell_type": "code",
   "execution_count": 25,
   "id": "4bbf3621",
   "metadata": {},
   "outputs": [],
   "source": [
    "df.to_csv('./Dataset/archive/test.csv',index=False)"
   ]
  },
  {
   "cell_type": "code",
   "execution_count": null,
   "id": "f12658c4",
   "metadata": {},
   "outputs": [],
   "source": []
  }
 ],
 "metadata": {
  "kernelspec": {
   "display_name": "Django Shell-Plus",
   "language": "python",
   "name": "django_extensions"
  },
  "language_info": {
   "codemirror_mode": {
    "name": "ipython",
    "version": 3
   },
   "file_extension": ".py",
   "mimetype": "text/x-python",
   "name": "python",
   "nbconvert_exporter": "python",
   "pygments_lexer": "ipython3",
   "version": "3.8.5"
  }
 },
 "nbformat": 4,
 "nbformat_minor": 5
}
